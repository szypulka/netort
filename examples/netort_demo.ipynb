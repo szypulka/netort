{
 "cells": [
  {
   "cell_type": "code",
   "execution_count": null,
   "metadata": {},
   "outputs": [],
   "source": [
    "import numpy as np\n",
    "import pandas as pd\n",
    "from time import time\n",
    "from netort.data_manager import DataSession\n",
    "import logging\n",
    "logging.basicConfig(format='%(levelname)s:%(message)s', level=logging.INFO)"
   ]
  },
  {
   "cell_type": "code",
   "execution_count": null,
   "metadata": {},
   "outputs": [],
   "source": [
    "# create a config file and start a data session\n",
    "\n",
    "config = {\n",
    "    'clients': [\n",
    "        {\n",
    "            'type': 'luna',\n",
    "            'api_address': 'https://your-luna-api.address',\n",
    "            'user_agent': 'Jupyter Test',\n",
    "            'db_name': 'luna_test'\n",
    "        },\n",
    "#         {\n",
    "#             'type': 'local_storage',\n",
    "#         }\n",
    "    ],\n",
    "    'test_start': int(time()*1e6),\n",
    "    'artifacts_base_dir': './logs'\n",
    "}\n",
    "\n",
    "data_session = DataSession(config=config)"
   ]
  },
  {
   "cell_type": "code",
   "execution_count": null,
   "metadata": {},
   "outputs": [],
   "source": [
    "# prepare an X-axis (timestamps of our data in microseconds)\n",
    "SIZE = 10000\n",
    "X = (np.arange(SIZE) * 1e4).astype(int)"
   ]
  },
  {
   "cell_type": "code",
   "execution_count": null,
   "metadata": {},
   "outputs": [],
   "source": [
    "# register a raw data metric\n",
    "metric_obj = data_session.new_true_metric(\n",
    "    \"My Raw Metric\",\n",
    "    raw=True, aggregate=False,\n",
    "    hostname='localhost',\n",
    "    source='Jupyter',\n",
    "    group='None'\n",
    ")\n",
    "\n",
    "# prepare data: a sinc(x) function (sinc(x) = sin(x)/x)\n",
    "df = pd.DataFrame()\n",
    "df['ts'] = X\n",
    "df['value'] = np.sinc(X * 1e-6)\n",
    "\n",
    "# queue data for upload\n",
    "metric_obj.put(df)"
   ]
  },
  {
   "cell_type": "code",
   "execution_count": null,
   "metadata": {},
   "outputs": [],
   "source": [
    "# register an aggregated metric\n",
    "metric_obj = data_session.new_true_metric(\n",
    "    \"My Aggregated Metric\",\n",
    "    raw=False, aggregate=True,\n",
    "    hostname='localhost',\n",
    "    source='Jupyter',\n",
    "    group='None'\n",
    ")\n",
    "\n",
    "# prepare data: a sin(x) with some normally distributed noise\n",
    "df = pd.DataFrame()\n",
    "df['ts'] = X\n",
    "df['value'] = np.sin(X * 1e-7) + np.random.normal(size=SIZE)\n",
    "\n",
    "# queue data for upload\n",
    "metric_obj.put(df)"
   ]
  },
  {
   "cell_type": "code",
   "execution_count": null,
   "metadata": {},
   "outputs": [],
   "source": [
    "# register aggregated events stream\n",
    "metric_obj = data_session.new_event_metric(\n",
    "    \"My Aggregated Events\",\n",
    "    raw=False, aggregate=True,\n",
    "    hostname='localhost',\n",
    "    source='Jupyter',\n",
    "    group='None'\n",
    ")\n",
    "\n",
    "# prepare data: random words\n",
    "df = pd.DataFrame()\n",
    "df['ts'] = X\n",
    "df['value'] = np.random.choice(\"a quick brown fox jumped over the lazy dog\".split(), len(X))\n",
    "\n",
    "# queue data for upload\n",
    "metric_obj.put(df)"
   ]
  },
  {
   "cell_type": "code",
   "execution_count": null,
   "metadata": {},
   "outputs": [],
   "source": [
    "\n",
    "# DOES NOT WORK for now for some reason in backend\n",
    "\n",
    "# register non-aggregated events stream\n",
    "# metric_obj = data_session.new_event_metric(\n",
    "#     \"My Aggregated Events\",\n",
    "#     raw=True, aggregate=False,\n",
    "#     hostname='localhost',\n",
    "#     source='Jupyter',\n",
    "#     group='None'\n",
    "# )\n",
    "\n",
    "\n",
    "# prepare data: random words\n",
    "# df = pd.DataFrame()\n",
    "# df['ts'] = X\n",
    "# df['value'] = np.random.choice(\"a quick brown fox jumped over the lazy dog\".split(), len(X))\n",
    "\n",
    "# queue data for upload\n",
    "# metric_obj.put(df)"
   ]
  },
  {
   "cell_type": "code",
   "execution_count": null,
   "metadata": {},
   "outputs": [],
   "source": [
    "# close the data session\n",
    "data_session.close()"
   ]
  },
  {
   "cell_type": "code",
   "execution_count": null,
   "metadata": {},
   "outputs": [],
   "source": [
    "# you can see the link to your report in the output"
   ]
  }
 ],
 "metadata": {
  "kernelspec": {
   "display_name": "Python 3",
   "language": "python",
   "name": "python3"
  },
  "language_info": {
   "codemirror_mode": {
    "name": "ipython",
    "version": 3
   },
   "file_extension": ".py",
   "mimetype": "text/x-python",
   "name": "python",
   "nbconvert_exporter": "python",
   "pygments_lexer": "ipython3",
   "version": "3.7.3"
  }
 },
 "nbformat": 4,
 "nbformat_minor": 2
}
